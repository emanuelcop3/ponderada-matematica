{
  "nbformat": 4,
  "nbformat_minor": 0,
  "metadata": {
    "colab": {
      "provenance": []
    },
    "kernelspec": {
      "name": "python3",
      "display_name": "Python 3"
    },
    "language_info": {
      "name": "python"
    }
  },
  "cells": [
    {
      "cell_type": "markdown",
      "source": [
        "Para calcular a entropia do sistema de vendas diárias, podemos usar a fórmula da entropia de Shannon:\n",
        "\n",
        "\\[ H(X) = - \\sum_{i=1}^{n} p(x_i) \\log_2 p(x_i) \\]\n",
        "\n",
        "onde:\n",
        "- \\( H(X) \\) é a entropia do sistema.\n",
        "- \\( p(x_i) \\) é a probabilidade de ocorrência do evento \\( x_i \\).\n",
        "- \\( n \\) é o número total de eventos.\n",
        "\n",
        "Primeiro, precisamos calcular a probabilidade de ocorrência de cada produto com base nas vendas diárias e, em seguida, calcular a entropia.\n",
        "\n",
        "Vamos fazer isso em Python:\n"
      ],
      "metadata": {
        "id": "kTWc7Kse67EO"
      }
    },
    {
      "cell_type": "code",
      "source": [
        "import math\n",
        "\n",
        "# Dados de vendas diárias\n",
        "vendas_diarias = [10, 5, 3, 2, 0, 0]\n",
        "\n",
        "# Calculando o total de vendas\n",
        "total_vendas = sum(vendas_diarias)\n",
        "\n",
        "# Calculando a probabilidade de cada produto\n",
        "probabilidades = [venda / total_vendas for venda in vendas_diarias if venda > 0]\n",
        "\n",
        "# Calculando a entropia\n",
        "entropia = -sum(p * math.log2(p) for p in probabilidades)\n",
        "\n",
        "entropia\n"
      ],
      "metadata": {
        "colab": {
          "base_uri": "https://localhost:8080/"
        },
        "id": "E2qIBkCt8CrG",
        "outputId": "b263a25a-9ad0-41d7-93ee-13c2c7860aa2"
      },
      "execution_count": 1,
      "outputs": [
        {
          "output_type": "execute_result",
          "data": {
            "text/plain": [
              "1.7427376486136672"
            ]
          },
          "metadata": {},
          "execution_count": 1
        }
      ]
    },
    {
      "cell_type": "markdown",
      "source": [
        "#### A entropia do sistema de vendas diárias para os produtos é aproximadamente 1,74 bits. Isso indica a incerteza ou aleatoriedade associada à distribuição das vendas diárias dos produtos. Quanto maior a entropia, mais distribuída ou uniforme é a importância relativa dos produtos; neste caso, uma entropia de 1,74 sugere uma distribuição moderada, com alguns produtos sendo mais significativos que outros. ​"
      ],
      "metadata": {
        "id": "5URdzGmT8N1r"
      }
    }
  ]
}